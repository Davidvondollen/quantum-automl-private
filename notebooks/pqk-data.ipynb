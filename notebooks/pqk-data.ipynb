{
 "cells": [
  {
   "cell_type": "code",
   "execution_count": 1337,
   "metadata": {},
   "outputs": [],
   "source": [
    "#from https://www.tensorflow.org/quantum/tutorials/quantum_data\n",
    "\n",
    "import cirq\n",
    "import sympy\n",
    "import numpy as np\n",
    "import tensorflow as tf\n",
    "import tensorflow_quantum as tfq\n",
    "\n",
    "# visualization tools\n",
    "%matplotlib inline\n",
    "import matplotlib.pyplot as plt\n",
    "from cirq.contrib.svg import SVGCircuit\n",
    "#np.random.seed(1234)"
   ]
  },
  {
   "cell_type": "code",
   "execution_count": 1346,
   "metadata": {},
   "outputs": [
    {
     "name": "stdout",
     "output_type": "stream",
     "text": [
      "Number of original training examples: 701\n",
      "Number of original test examples: 124\n"
     ]
    }
   ],
   "source": [
    "from sklearn.datasets import make_regression, load_diabetes\n",
    "from sklearn.model_selection import train_test_split\n",
    "from sklearn.datasets import fetch_california_housing\n",
    "\n",
    "import sklearn\n",
    "from sklearn.preprocessing import StandardScaler, MinMaxScaler\n",
    "\n",
    "\n",
    "X, y = fetch_california_housing(return_X_y=True, as_frame=False)\n",
    "\n",
    "idx = np.random.choice(len(X), int(len(X) * 0.04), replace=False)\n",
    "\n",
    "\n",
    "X = X[idx]\n",
    "y = y[idx]\n",
    "\n",
    "\n",
    "\n",
    "\n",
    "#diabetes = load_diabetes()\n",
    "#X, y = diabetes.data, diabetes.target\n",
    "\n",
    "\n",
    "#X, y = make_friedman1(n_samples=500, n_features=13, noise=1.)\n",
    "#X, y = make_friedman2(n_samples=500)\n",
    "\n",
    "#X, y =make_regression(n_samples=500, n_features=13)\n",
    "\n",
    "\n",
    "scaler = MinMaxScaler()\n",
    "X =scaler.fit_transform(X)\n",
    "y = scaler.fit_transform(y.reshape(-1,1))\n",
    "\n",
    "x_train, x_test, y_train, y_test = train_test_split(X, y, test_size=0.15, random_state=42)\n",
    "#(x_train, y_train), (x_test, y_test) = tf.keras.datasets.boston_housing.load_data()\n",
    "\n",
    "\n",
    "#(x_train, y_train), (x_test, y_test) = tf.keras.datasets.fashion_mnist.load_data()\n",
    "\n",
    "# Rescale the images from [0,255] to the [0.0,1.0] range.\n",
    "#x_train, x_test = x_train/255.0, x_test/255.0\n",
    "\n",
    "\n",
    "\n",
    "\n",
    "print(\"Number of original training examples:\", len(x_train))\n",
    "print(\"Number of original test examples:\", len(x_test))"
   ]
  },
  {
   "cell_type": "code",
   "execution_count": 1348,
   "metadata": {},
   "outputs": [
    {
     "data": {
      "text/plain": [
       "(825, 8)"
      ]
     },
     "execution_count": 1348,
     "metadata": {},
     "output_type": "execute_result"
    }
   ],
   "source": [
    "X.shape"
   ]
  },
  {
   "cell_type": "code",
   "execution_count": 1339,
   "metadata": {},
   "outputs": [
    {
     "data": {
      "text/plain": [
       "<module 'pkg_resources' from '/Users/davidvondollen/opt/anaconda3/envs/quantum-data/lib/python3.8/site-packages/pkg_resources/__init__.py'>"
      ]
     },
     "execution_count": 1339,
     "metadata": {},
     "output_type": "execute_result"
    }
   ],
   "source": [
    "import importlib, pkg_resources\n",
    "importlib.reload(pkg_resources)"
   ]
  },
  {
   "cell_type": "code",
   "execution_count": 1340,
   "metadata": {},
   "outputs": [],
   "source": [
    "import cirq\n",
    "import sympy\n",
    "import numpy as np\n",
    "import tensorflow as tf\n",
    "import tensorflow_quantum as tfq\n",
    "\n",
    "# visualization tools\n",
    "%matplotlib inline\n",
    "import matplotlib.pyplot as plt\n",
    "from cirq.contrib.svg import SVGCircuit\n",
    "np.random.seed(1234)"
   ]
  },
  {
   "cell_type": "code",
   "execution_count": 1312,
   "metadata": {},
   "outputs": [],
   "source": [
    "def filter_03(x, y):\n",
    "    keep = (y == 0) | (y == 3)\n",
    "    x, y = x[keep], y[keep]\n",
    "    y = y == 0\n",
    "    return x,y\n",
    "\n"
   ]
  },
  {
   "cell_type": "code",
   "execution_count": 1313,
   "metadata": {},
   "outputs": [
    {
     "name": "stdout",
     "output_type": "stream",
     "text": [
      "Number of filtered training examples: 425\n",
      "Number of filtered test examples: 75\n"
     ]
    }
   ],
   "source": [
    "#x_train, y_train = filter_03(x_train, y_train)\n",
    "#x_test, y_test = filter_03(x_test, y_test)\n",
    "\n",
    "print(\"Number of filtered training examples:\", len(x_train))\n",
    "print(\"Number of filtered test examples:\", len(x_test))"
   ]
  },
  {
   "cell_type": "code",
   "execution_count": 1314,
   "metadata": {},
   "outputs": [],
   "source": [
    "#print(y_train[0])\n",
    "\n",
    "#plt.imshow(x_train[0, :, :])\n",
    "#plt.colorbar()"
   ]
  },
  {
   "cell_type": "code",
   "execution_count": 1315,
   "metadata": {},
   "outputs": [],
   "source": [
    "def truncate_x(x_train, x_test, n_components=10):\n",
    "  \"\"\"Perform PCA on image dataset keeping the top `n_components` components.\"\"\"\n",
    "  n_points_train = tf.gather(tf.shape(x_train), 0)\n",
    "  n_points_test = tf.gather(tf.shape(x_test), 0)\n",
    "\n",
    "  # Flatten to 1D\n",
    "  x_train = tf.reshape(x_train, [n_points_train, -1])\n",
    "  x_test = tf.reshape(x_test, [n_points_test, -1])\n",
    "\n",
    "  # Normalize.\n",
    "  feature_mean = tf.reduce_mean(x_train, axis=0)\n",
    "  x_train_normalized = x_train - feature_mean\n",
    "  x_test_normalized = x_test - feature_mean\n",
    "\n",
    "  # Truncate.\n",
    "  e_values, e_vectors = tf.linalg.eigh(\n",
    "      tf.einsum('ji,jk->ik', x_train_normalized, x_train_normalized))\n",
    "  return tf.einsum('ij,jk->ik', x_train_normalized, e_vectors[:,-n_components:]), \\\n",
    "    tf.einsum('ij,jk->ik', x_test_normalized, e_vectors[:, -n_components:])"
   ]
  },
  {
   "cell_type": "code",
   "execution_count": 1316,
   "metadata": {},
   "outputs": [
    {
     "name": "stdout",
     "output_type": "stream",
     "text": [
      "New datapoint dimension: 10\n"
     ]
    }
   ],
   "source": [
    "DATASET_DIM = 10\n",
    "x_train, x_test = truncate_x(x_train, x_test, n_components=DATASET_DIM)\n",
    "print(f'New datapoint dimension:', len(x_train[0]))"
   ]
  },
  {
   "cell_type": "code",
   "execution_count": 1317,
   "metadata": {},
   "outputs": [
    {
     "data": {
      "text/plain": [
       "array([[5.77514590e-01],\n",
       "       [5.86090536e-01],\n",
       "       [3.90044728e-01],\n",
       "       [6.11897731e-01],\n",
       "       [3.89455272e-01],\n",
       "       [7.18930835e-01],\n",
       "       [4.08673794e-01],\n",
       "       [4.01850883e-01],\n",
       "       [6.74639195e-04],\n",
       "       [4.86270756e-01],\n",
       "       [7.49963311e-01],\n",
       "       [8.26977440e-01],\n",
       "       [6.20884817e-01],\n",
       "       [6.98484953e-01],\n",
       "       [4.32303504e-01],\n",
       "       [6.27635275e-01],\n",
       "       [3.10898896e-01],\n",
       "       [5.38856216e-01],\n",
       "       [5.86148096e-01],\n",
       "       [3.91520457e-01],\n",
       "       [8.75061636e-01],\n",
       "       [4.39151989e-01],\n",
       "       [7.41162274e-01],\n",
       "       [6.19229016e-01],\n",
       "       [0.00000000e+00],\n",
       "       [5.71063346e-01],\n",
       "       [4.73326966e-01],\n",
       "       [7.27868778e-01],\n",
       "       [3.83222413e-01],\n",
       "       [6.76125667e-01],\n",
       "       [5.17206454e-01],\n",
       "       [4.44629681e-01],\n",
       "       [7.02646461e-01],\n",
       "       [7.62253797e-01],\n",
       "       [4.92656018e-01],\n",
       "       [8.16968951e-01],\n",
       "       [4.36168953e-01],\n",
       "       [6.69255565e-01],\n",
       "       [8.01830786e-01],\n",
       "       [5.01697442e-01],\n",
       "       [6.36704735e-01],\n",
       "       [7.58813101e-01],\n",
       "       [9.08090322e-01],\n",
       "       [7.11376885e-01],\n",
       "       [5.23800757e-01],\n",
       "       [9.06339528e-01],\n",
       "       [5.87487850e-01],\n",
       "       [2.80853722e-01],\n",
       "       [3.38140565e-01],\n",
       "       [8.70051486e-01],\n",
       "       [8.48365976e-01],\n",
       "       [8.45291226e-01],\n",
       "       [5.78650514e-01],\n",
       "       [4.17208578e-01],\n",
       "       [3.19905670e-01],\n",
       "       [5.66753393e-01],\n",
       "       [6.60349737e-01],\n",
       "       [6.04881228e-01],\n",
       "       [4.26433737e-01],\n",
       "       [4.90572883e-01],\n",
       "       [6.09578813e-01],\n",
       "       [6.79624681e-01],\n",
       "       [1.00000000e+00],\n",
       "       [7.73935288e-01],\n",
       "       [8.13528842e-01],\n",
       "       [5.58555386e-01],\n",
       "       [5.63558332e-01],\n",
       "       [5.15698964e-01],\n",
       "       [9.13513692e-01],\n",
       "       [5.94889899e-01],\n",
       "       [7.46376890e-01],\n",
       "       [6.50144980e-01],\n",
       "       [3.31839537e-01],\n",
       "       [6.00685946e-01],\n",
       "       [9.00235450e-01]])"
      ]
     },
     "execution_count": 1317,
     "metadata": {},
     "output_type": "execute_result"
    }
   ],
   "source": [
    "\n",
    "\n",
    "\n",
    "#N_TRAIN = 1000\n",
    "#N_TEST = 200\n",
    "\n",
    "N_TRAIN = len(x_train)\n",
    "N_TEST = len(x_test)\n",
    "\n",
    "x_train, x_test = x_train[:N_TRAIN], x_test[:N_TEST]\n",
    "y_train, y_test = y_train[:N_TRAIN], y_test[:N_TEST]\n",
    "\n",
    "#N_TRAIN = 1000\n",
    "#N_TEST = 200\n",
    "\n",
    "\n",
    "\n",
    "    \n",
    "\n",
    "    \n",
    "scaler = MinMaxScaler()\n",
    "\n",
    "x_train = scaler.fit_transform(x_train)\n",
    "y_train = scaler.fit_transform(y_train.reshape(-1,1))\n",
    "\n",
    "x_test = scaler.fit_transform(x_test)\n",
    "y_test = scaler.fit_transform(y_test.reshape(-1,1))\n",
    "\n",
    "y_test\n",
    "          "
   ]
  },
  {
   "cell_type": "code",
   "execution_count": 1318,
   "metadata": {},
   "outputs": [],
   "source": [
    "def single_qubit_wall(qubits, rotations):\n",
    "  \"\"\"Prepare a single qubit X,Y,Z rotation wall on `qubits`.\"\"\"\n",
    "  wall_circuit = cirq.Circuit()\n",
    "  for i, qubit in enumerate(qubits):\n",
    "    for j, gate in enumerate([cirq.X, cirq.Y, cirq.Z]):\n",
    "      wall_circuit.append(gate(qubit) ** rotations[i][j])\n",
    "\n",
    "  return wall_circuit"
   ]
  },
  {
   "cell_type": "code",
   "execution_count": 1319,
   "metadata": {},
   "outputs": [
    {
     "data": {
      "image/svg+xml": [
       "<svg xmlns=\"http://www.w3.org/2000/svg\" width=\"355.99917968750003\" height=\"200.0\"><line x1=\"32.246796875\" x2=\"325.99917968750003\" y1=\"25.0\" y2=\"25.0\" stroke=\"#1967d2\" stroke-width=\"1\" /><line x1=\"32.246796875\" x2=\"325.99917968750003\" y1=\"75.0\" y2=\"75.0\" stroke=\"#1967d2\" stroke-width=\"1\" /><line x1=\"32.246796875\" x2=\"325.99917968750003\" y1=\"125.0\" y2=\"125.0\" stroke=\"#1967d2\" stroke-width=\"1\" /><line x1=\"32.246796875\" x2=\"325.99917968750003\" y1=\"175.0\" y2=\"175.0\" stroke=\"#1967d2\" stroke-width=\"1\" /><rect x=\"10.0\" y=\"5.0\" width=\"44.49359375\" height=\"40\" stroke=\"black\" fill=\"white\" stroke-width=\"0\" /><text x=\"32.246796875\" y=\"25.0\" dominant-baseline=\"middle\" text-anchor=\"middle\" font-size=\"14px\" font-family=\"Arial\">(0, 0): </text><rect x=\"10.0\" y=\"55.0\" width=\"44.49359375\" height=\"40\" stroke=\"black\" fill=\"white\" stroke-width=\"0\" /><text x=\"32.246796875\" y=\"75.0\" dominant-baseline=\"middle\" text-anchor=\"middle\" font-size=\"14px\" font-family=\"Arial\">(0, 1): </text><rect x=\"10.0\" y=\"105.0\" width=\"44.49359375\" height=\"40\" stroke=\"black\" fill=\"white\" stroke-width=\"0\" /><text x=\"32.246796875\" y=\"125.0\" dominant-baseline=\"middle\" text-anchor=\"middle\" font-size=\"14px\" font-family=\"Arial\">(0, 2): </text><rect x=\"10.0\" y=\"155.0\" width=\"44.49359375\" height=\"40\" stroke=\"black\" fill=\"white\" stroke-width=\"0\" /><text x=\"32.246796875\" y=\"175.0\" dominant-baseline=\"middle\" text-anchor=\"middle\" font-size=\"14px\" font-family=\"Arial\">(0, 3): </text><rect x=\"74.49359375\" y=\"5.0\" width=\"68.666015625\" height=\"40\" stroke=\"black\" fill=\"white\" stroke-width=\"1\" /><text x=\"108.8266015625\" y=\"25.0\" dominant-baseline=\"middle\" text-anchor=\"middle\" font-size=\"14px\" font-family=\"Arial\">X^0.192</text><rect x=\"74.49359375\" y=\"55.0\" width=\"68.666015625\" height=\"40\" stroke=\"black\" fill=\"white\" stroke-width=\"1\" /><text x=\"108.8266015625\" y=\"75.0\" dominant-baseline=\"middle\" text-anchor=\"middle\" font-size=\"14px\" font-family=\"Arial\">X^(11/14)</text><rect x=\"74.49359375\" y=\"105.0\" width=\"68.666015625\" height=\"40\" stroke=\"black\" fill=\"white\" stroke-width=\"1\" /><text x=\"108.8266015625\" y=\"125.0\" dominant-baseline=\"middle\" text-anchor=\"middle\" font-size=\"14px\" font-family=\"Arial\">X^0.276</text><rect x=\"74.49359375\" y=\"155.0\" width=\"68.666015625\" height=\"40\" stroke=\"black\" fill=\"white\" stroke-width=\"1\" /><text x=\"108.8266015625\" y=\"175.0\" dominant-baseline=\"middle\" text-anchor=\"middle\" font-size=\"14px\" font-family=\"Arial\">X^0.876</text><rect x=\"163.159609375\" y=\"5.0\" width=\"61.9320703125\" height=\"40\" stroke=\"black\" fill=\"white\" stroke-width=\"1\" /><text x=\"194.12564453125\" y=\"25.0\" dominant-baseline=\"middle\" text-anchor=\"middle\" font-size=\"14px\" font-family=\"Arial\">Y^0.622</text><rect x=\"163.159609375\" y=\"55.0\" width=\"61.9320703125\" height=\"40\" stroke=\"black\" fill=\"white\" stroke-width=\"1\" /><text x=\"194.12564453125\" y=\"75.0\" dominant-baseline=\"middle\" text-anchor=\"middle\" font-size=\"14px\" font-family=\"Arial\">Y^0.78</text><rect x=\"163.159609375\" y=\"105.0\" width=\"61.9320703125\" height=\"40\" stroke=\"black\" fill=\"white\" stroke-width=\"1\" /><text x=\"194.12564453125\" y=\"125.0\" dominant-baseline=\"middle\" text-anchor=\"middle\" font-size=\"14px\" font-family=\"Arial\">Y^0.802</text><rect x=\"163.159609375\" y=\"155.0\" width=\"61.9320703125\" height=\"40\" stroke=\"black\" fill=\"white\" stroke-width=\"1\" /><text x=\"194.12564453125\" y=\"175.0\" dominant-baseline=\"middle\" text-anchor=\"middle\" font-size=\"14px\" font-family=\"Arial\">Y^(5/14)</text><rect x=\"245.0916796875\" y=\"5.0\" width=\"60.9075\" height=\"40\" stroke=\"black\" fill=\"white\" stroke-width=\"1\" /><text x=\"275.5454296875\" y=\"25.0\" dominant-baseline=\"middle\" text-anchor=\"middle\" font-size=\"14px\" font-family=\"Arial\">Z^(7/16)</text><rect x=\"245.0916796875\" y=\"55.0\" width=\"60.9075\" height=\"40\" stroke=\"black\" fill=\"white\" stroke-width=\"1\" /><text x=\"275.5454296875\" y=\"75.0\" dominant-baseline=\"middle\" text-anchor=\"middle\" font-size=\"14px\" font-family=\"Arial\">Z^(3/11)</text><rect x=\"245.0916796875\" y=\"105.0\" width=\"60.9075\" height=\"40\" stroke=\"black\" fill=\"white\" stroke-width=\"1\" /><text x=\"275.5454296875\" y=\"125.0\" dominant-baseline=\"middle\" text-anchor=\"middle\" font-size=\"14px\" font-family=\"Arial\">Z^0.958</text><rect x=\"245.0916796875\" y=\"155.0\" width=\"60.9075\" height=\"40\" stroke=\"black\" fill=\"white\" stroke-width=\"1\" /><text x=\"275.5454296875\" y=\"175.0\" dominant-baseline=\"middle\" text-anchor=\"middle\" font-size=\"14px\" font-family=\"Arial\">Z^0.501</text></svg>"
      ],
      "text/plain": [
       "<cirq.contrib.svg.svg.SVGCircuit at 0x7f7c31f7adc0>"
      ]
     },
     "execution_count": 1319,
     "metadata": {},
     "output_type": "execute_result"
    }
   ],
   "source": [
    "SVGCircuit(single_qubit_wall(\n",
    "    cirq.GridQubit.rect(1,4), np.random.uniform(size=(4, 3))))"
   ]
  },
  {
   "cell_type": "code",
   "execution_count": 1320,
   "metadata": {},
   "outputs": [],
   "source": [
    "def v_theta(qubits):\n",
    "  \"\"\"Prepares a circuit that generates V(\\theta).\"\"\"\n",
    "  ref_paulis = [\n",
    "      cirq.X(q0) * cirq.X(q1) + \\\n",
    "      cirq.Y(q0) * cirq.Y(q1) + \\\n",
    "      cirq.Z(q0) * cirq.Z(q1) for q0, q1 in zip(qubits, qubits[1:])\n",
    "  ]\n",
    "  exp_symbols = list(sympy.symbols('ref_0:'+str(len(ref_paulis))))\n",
    "  return tfq.util.exponential(ref_paulis, exp_symbols), exp_symbols"
   ]
  },
  {
   "cell_type": "code",
   "execution_count": 1321,
   "metadata": {},
   "outputs": [
    {
     "name": "stdout",
     "output_type": "stream",
     "text": [
      "Symbols found in circuit:[ref_0]\n"
     ]
    },
    {
     "data": {
      "image/svg+xml": [
       "<svg xmlns=\"http://www.w3.org/2000/svg\" width=\"1092.0008203125\" height=\"100.0\"><line x1=\"32.246796875\" x2=\"1062.0008203125\" y1=\"25.0\" y2=\"25.0\" stroke=\"#1967d2\" stroke-width=\"1\" /><line x1=\"32.246796875\" x2=\"1062.0008203125\" y1=\"75.0\" y2=\"75.0\" stroke=\"#1967d2\" stroke-width=\"1\" /><line x1=\"154.49359375\" x2=\"154.49359375\" y1=\"25.0\" y2=\"75.0\" stroke=\"black\" stroke-width=\"3\" /><line x1=\"326.14230468750003\" x2=\"326.14230468750003\" y1=\"25.0\" y2=\"75.0\" stroke=\"black\" stroke-width=\"3\" /><line x1=\"530.091796875\" x2=\"530.091796875\" y1=\"25.0\" y2=\"75.0\" stroke=\"black\" stroke-width=\"3\" /><line x1=\"701.7405078125\" x2=\"701.7405078125\" y1=\"25.0\" y2=\"75.0\" stroke=\"black\" stroke-width=\"3\" /><line x1=\"850.352109375\" x2=\"850.352109375\" y1=\"25.0\" y2=\"75.0\" stroke=\"black\" stroke-width=\"3\" /><line x1=\"1022.0008203125001\" x2=\"1022.0008203125001\" y1=\"25.0\" y2=\"75.0\" stroke=\"black\" stroke-width=\"3\" /><rect x=\"10.0\" y=\"5.0\" width=\"44.49359375\" height=\"40\" stroke=\"black\" fill=\"white\" stroke-width=\"0\" /><text x=\"32.246796875\" y=\"25.0\" dominant-baseline=\"middle\" text-anchor=\"middle\" font-size=\"14px\" font-family=\"Arial\">(0, 0): </text><rect x=\"10.0\" y=\"55.0\" width=\"44.49359375\" height=\"40\" stroke=\"black\" fill=\"white\" stroke-width=\"0\" /><text x=\"32.246796875\" y=\"75.0\" dominant-baseline=\"middle\" text-anchor=\"middle\" font-size=\"14px\" font-family=\"Arial\">(0, 1): </text><rect x=\"74.49359375\" y=\"5.0\" width=\"40\" height=\"40\" stroke=\"black\" fill=\"white\" stroke-width=\"1\" /><text x=\"94.49359375\" y=\"25.0\" dominant-baseline=\"middle\" text-anchor=\"middle\" font-size=\"18px\" font-family=\"Arial\">H</text><rect x=\"74.49359375\" y=\"55.0\" width=\"40\" height=\"40\" stroke=\"black\" fill=\"white\" stroke-width=\"1\" /><text x=\"94.49359375\" y=\"75.0\" dominant-baseline=\"middle\" text-anchor=\"middle\" font-size=\"18px\" font-family=\"Arial\">H</text><circle cx=\"154.49359375\" cy=\"25.0\" r=\"10.0\" /><rect x=\"134.49359375\" y=\"55.0\" width=\"40\" height=\"40\" stroke=\"black\" fill=\"white\" stroke-width=\"1\" /><text x=\"154.49359375\" y=\"75.0\" dominant-baseline=\"middle\" text-anchor=\"middle\" font-size=\"18px\" font-family=\"Arial\">X</text><rect x=\"194.49359375\" y=\"55.0\" width=\"91.64871093750001\" height=\"40\" stroke=\"black\" fill=\"white\" stroke-width=\"1\" /><text x=\"240.31794921875002\" y=\"75.0\" dominant-baseline=\"middle\" text-anchor=\"middle\" font-size=\"14px\" font-family=\"Arial\">Rz(2.0*ref_0)</text><circle cx=\"326.14230468750003\" cy=\"25.0\" r=\"10.0\" /><rect x=\"306.14230468750003\" y=\"55.0\" width=\"40\" height=\"40\" stroke=\"black\" fill=\"white\" stroke-width=\"1\" /><text x=\"326.14230468750003\" y=\"75.0\" dominant-baseline=\"middle\" text-anchor=\"middle\" font-size=\"18px\" font-family=\"Arial\">X</text><rect x=\"366.14230468750003\" y=\"55.0\" width=\"40\" height=\"40\" stroke=\"black\" fill=\"white\" stroke-width=\"1\" /><text x=\"386.14230468750003\" y=\"75.0\" dominant-baseline=\"middle\" text-anchor=\"middle\" font-size=\"18px\" font-family=\"Arial\">H</text><rect x=\"366.14230468750003\" y=\"5.0\" width=\"40\" height=\"40\" stroke=\"black\" fill=\"white\" stroke-width=\"1\" /><text x=\"386.14230468750003\" y=\"25.0\" dominant-baseline=\"middle\" text-anchor=\"middle\" font-size=\"18px\" font-family=\"Arial\">H</text><rect x=\"426.14230468750003\" y=\"55.0\" width=\"63.9494921875\" height=\"40\" stroke=\"black\" fill=\"white\" stroke-width=\"1\" /><text x=\"458.11705078125004\" y=\"75.0\" dominant-baseline=\"middle\" text-anchor=\"middle\" font-size=\"14px\" font-family=\"Arial\">Rx(0.5π)</text><rect x=\"426.14230468750003\" y=\"5.0\" width=\"63.9494921875\" height=\"40\" stroke=\"black\" fill=\"white\" stroke-width=\"1\" /><text x=\"458.11705078125004\" y=\"25.0\" dominant-baseline=\"middle\" text-anchor=\"middle\" font-size=\"14px\" font-family=\"Arial\">Rx(0.5π)</text><circle cx=\"530.091796875\" cy=\"75.0\" r=\"10.0\" /><rect x=\"510.091796875\" y=\"5.0\" width=\"40\" height=\"40\" stroke=\"black\" fill=\"white\" stroke-width=\"1\" /><text x=\"530.091796875\" y=\"25.0\" dominant-baseline=\"middle\" text-anchor=\"middle\" font-size=\"18px\" font-family=\"Arial\">X</text><rect x=\"570.091796875\" y=\"5.0\" width=\"91.64871093750001\" height=\"40\" stroke=\"black\" fill=\"white\" stroke-width=\"1\" /><text x=\"615.91615234375\" y=\"25.0\" dominant-baseline=\"middle\" text-anchor=\"middle\" font-size=\"14px\" font-family=\"Arial\">Rz(2.0*ref_0)</text><circle cx=\"701.7405078125\" cy=\"75.0\" r=\"10.0\" /><rect x=\"681.7405078125\" y=\"5.0\" width=\"40\" height=\"40\" stroke=\"black\" fill=\"white\" stroke-width=\"1\" /><text x=\"701.7405078125\" y=\"25.0\" dominant-baseline=\"middle\" text-anchor=\"middle\" font-size=\"18px\" font-family=\"Arial\">X</text><rect x=\"741.7405078125\" y=\"5.0\" width=\"68.6116015625\" height=\"40\" stroke=\"black\" fill=\"white\" stroke-width=\"1\" /><text x=\"776.04630859375\" y=\"25.0\" dominant-baseline=\"middle\" text-anchor=\"middle\" font-size=\"14px\" font-family=\"Arial\">Rx(-0.5π)</text><rect x=\"741.7405078125\" y=\"55.0\" width=\"68.6116015625\" height=\"40\" stroke=\"black\" fill=\"white\" stroke-width=\"1\" /><text x=\"776.04630859375\" y=\"75.0\" dominant-baseline=\"middle\" text-anchor=\"middle\" font-size=\"14px\" font-family=\"Arial\">Rx(-0.5π)</text><circle cx=\"850.352109375\" cy=\"75.0\" r=\"10.0\" /><rect x=\"830.352109375\" y=\"5.0\" width=\"40\" height=\"40\" stroke=\"black\" fill=\"white\" stroke-width=\"1\" /><text x=\"850.352109375\" y=\"25.0\" dominant-baseline=\"middle\" text-anchor=\"middle\" font-size=\"18px\" font-family=\"Arial\">X</text><rect x=\"890.352109375\" y=\"5.0\" width=\"91.64871093750001\" height=\"40\" stroke=\"black\" fill=\"white\" stroke-width=\"1\" /><text x=\"936.1764648437501\" y=\"25.0\" dominant-baseline=\"middle\" text-anchor=\"middle\" font-size=\"14px\" font-family=\"Arial\">Rz(2.0*ref_0)</text><circle cx=\"1022.0008203125001\" cy=\"75.0\" r=\"10.0\" /><rect x=\"1002.0008203125001\" y=\"5.0\" width=\"40\" height=\"40\" stroke=\"black\" fill=\"white\" stroke-width=\"1\" /><text x=\"1022.0008203125001\" y=\"25.0\" dominant-baseline=\"middle\" text-anchor=\"middle\" font-size=\"18px\" font-family=\"Arial\">X</text></svg>"
      ],
      "text/plain": [
       "<cirq.contrib.svg.svg.SVGCircuit at 0x7f7c2fdc1cd0>"
      ]
     },
     "execution_count": 1321,
     "metadata": {},
     "output_type": "execute_result"
    }
   ],
   "source": [
    "test_circuit, test_symbols = v_theta(cirq.GridQubit.rect(1, 2))\n",
    "print(f'Symbols found in circuit:{test_symbols}')\n",
    "SVGCircuit(test_circuit)"
   ]
  },
  {
   "cell_type": "code",
   "execution_count": 1322,
   "metadata": {},
   "outputs": [],
   "source": [
    "def prepare_pqk_circuits(qubits, classical_source, n_trotter=8):\n",
    "  \"\"\"Prepare the pqk feature circuits around a dataset.\"\"\"\n",
    "  n_qubits = len(qubits)\n",
    "  n_points = len(classical_source)\n",
    "\n",
    "  # Prepare random single qubit rotation wall.\n",
    "  random_rots = np.random.uniform(-2, 2, size=(n_qubits, 3))\n",
    "  initial_U = single_qubit_wall(qubits, random_rots)\n",
    "\n",
    "  # Prepare parametrized V\n",
    "  V_circuit, symbols = v_theta(qubits)\n",
    "  exp_circuit = cirq.Circuit(V_circuit for t in range(n_trotter))\n",
    "\n",
    "  # Convert to `tf.Tensor`\n",
    "  initial_U_tensor = tfq.convert_to_tensor([initial_U])\n",
    "  initial_U_splat = tf.tile(initial_U_tensor, [n_points])\n",
    "\n",
    "  full_circuits = tfq.layers.AddCircuit()(\n",
    "      initial_U_splat, append=exp_circuit)\n",
    "  # Replace placeholders in circuits with values from `classical_source`.\n",
    "  return tfq.resolve_parameters(\n",
    "      full_circuits, tf.convert_to_tensor([str(x) for x in symbols]),\n",
    "      tf.convert_to_tensor(classical_source*(n_qubits/3)/n_trotter))"
   ]
  },
  {
   "cell_type": "code",
   "execution_count": 1323,
   "metadata": {},
   "outputs": [],
   "source": [
    "qubits = cirq.GridQubit.rect(1, DATASET_DIM + 1)\n",
    "q_x_train_circuits = prepare_pqk_circuits(qubits, x_train)\n",
    "q_x_test_circuits = prepare_pqk_circuits(qubits, x_test)"
   ]
  },
  {
   "cell_type": "code",
   "execution_count": 1324,
   "metadata": {},
   "outputs": [],
   "source": [
    "def get_pqk_features(qubits, data_batch):\n",
    "  \"\"\"Get PQK features based on above construction.\"\"\"\n",
    "  ops = [[cirq.X(q), cirq.Y(q), cirq.Z(q)] for q in qubits]\n",
    "  ops_tensor = tf.expand_dims(tf.reshape(tfq.convert_to_tensor(ops), -1), 0)\n",
    "  batch_dim = tf.gather(tf.shape(data_batch), 0)\n",
    "  ops_splat = tf.tile(ops_tensor, [batch_dim, 1])\n",
    "  exp_vals = tfq.layers.Expectation()(data_batch, operators=ops_splat)\n",
    "  rdm = tf.reshape(exp_vals, [batch_dim, len(qubits), -1])\n",
    "  return rdm"
   ]
  },
  {
   "cell_type": "code",
   "execution_count": 1325,
   "metadata": {},
   "outputs": [
    {
     "name": "stdout",
     "output_type": "stream",
     "text": [
      "New PQK training dataset has shape: (425, 11, 3)\n",
      "New PQK testing dataset has shape: (75, 11, 3)\n"
     ]
    }
   ],
   "source": [
    "x_train_pqk = get_pqk_features(qubits, q_x_train_circuits)\n",
    "x_test_pqk = get_pqk_features(qubits, q_x_test_circuits)\n",
    "print('New PQK training dataset has shape:', x_train_pqk.shape)\n",
    "print('New PQK testing dataset has shape:', x_test_pqk.shape)"
   ]
  },
  {
   "cell_type": "code",
   "execution_count": 1326,
   "metadata": {},
   "outputs": [],
   "source": [
    "def compute_kernel_matrix(vecs, gamma):\n",
    "  \"\"\"Computes d[i][j] = e^ -gamma * (vecs[i] - vecs[j]) ** 2 \"\"\"\n",
    "  scaled_gamma = gamma / (\n",
    "      tf.cast(tf.gather(tf.shape(vecs), 1), tf.float32) * tf.math.reduce_std(vecs))\n",
    "  return scaled_gamma * tf.einsum('ijk->ij',(vecs[:,None,:] - vecs) ** 2)\n",
    "\n",
    "def get_spectrum(datapoints, gamma=1.0):\n",
    "  \"\"\"Compute the eigenvalues and eigenvectors of the kernel of datapoints.\"\"\"\n",
    "  KC_qs = compute_kernel_matrix(datapoints, gamma)\n",
    "  S, V = tf.linalg.eigh(KC_qs)\n",
    "  S = tf.math.abs(S)\n",
    "  return S, V"
   ]
  },
  {
   "cell_type": "code",
   "execution_count": 1327,
   "metadata": {},
   "outputs": [
    {
     "name": "stdout",
     "output_type": "stream",
     "text": [
      "Eigenvectors of pqk kernel matrix: tf.Tensor(\n",
      "[[-0.02433182  0.04793513  0.0374992  ...  0.08564785 -0.02227794\n",
      "   0.03765634]\n",
      " [-0.03234835  0.02975667 -0.00425568 ... -0.00077279  0.6798687\n",
      "   0.04212114]\n",
      " [-0.01947668  0.05076632 -0.0831014  ... -0.16815831  0.04342926\n",
      "   0.04393488]\n",
      " ...\n",
      " [ 0.06786648  0.00317618  0.06054138 ...  0.01365719  0.0075105\n",
      "   0.05049017]\n",
      " [ 0.08276161  0.03092082  0.07658009 ...  0.06614178  0.12338011\n",
      "   0.05384719]\n",
      " [ 0.07770849 -0.03080515  0.04218074 ...  0.01179587  0.03510402\n",
      "   0.04923963]], shape=(500, 500), dtype=float32)\n",
      "Eigenvectors of original kernel matrix: tf.Tensor(\n",
      "[[-2.9958140e-02 -9.0385959e-02 -4.7754139e-02 ... -2.0535247e-02\n",
      "  -7.2509754e-03  5.5906795e-02]\n",
      " [-8.0285117e-02  2.5164124e-02  8.7694107e-03 ...  1.6281329e-03\n",
      "  -7.8561580e-01  4.4480763e-02]\n",
      " [ 4.1180342e-02  1.5969987e-03 -4.2675011e-02 ... -6.9749445e-02\n",
      "  -2.8297718e-04  5.4256044e-02]\n",
      " ...\n",
      " [ 1.9164132e-02 -6.3298099e-02  6.7800120e-02 ...  7.4218862e-02\n",
      "   6.2206425e-02  5.9697725e-02]\n",
      " [ 2.4531491e-02  4.9847808e-02 -6.5363701e-03 ...  1.9804982e-02\n",
      "   2.6530009e-02  4.0010426e-02]\n",
      " [ 1.5404920e-01 -2.1024356e-02  9.5603277e-04 ... -1.7563829e-02\n",
      "  -6.8069369e-02  6.0502205e-02]], shape=(500, 500), dtype=float32)\n"
     ]
    }
   ],
   "source": [
    "S_pqk, V_pqk = get_spectrum(\n",
    "    tf.reshape(tf.concat([x_train_pqk, x_test_pqk], 0), [-1, len(qubits) * 3]))\n",
    "\n",
    "S_original, V_original = get_spectrum(\n",
    "    tf.cast(tf.concat([x_train, x_test], 0), tf.float32), gamma=0.2)\n",
    "\n",
    "print('Eigenvectors of pqk kernel matrix:', V_pqk)\n",
    "print('Eigenvectors of original kernel matrix:', V_original)"
   ]
  },
  {
   "cell_type": "code",
   "execution_count": 1328,
   "metadata": {},
   "outputs": [],
   "source": [
    "def get_stilted_dataset(S, V, S_2, V_2, lambdav=0.1):\n",
    "    \"\"\"Prepare new labels that maximize geometric distance between kernels.\"\"\"\n",
    "    S_diag = tf.linalg.diag(S ** 0.5)\n",
    "    S_2_diag = tf.linalg.diag(S_2 / (S_2 + lambdav) ** 2)\n",
    "    scaling = S_diag @ tf.transpose(V) @ \\\n",
    "            V_2 @ S_2_diag @ tf.transpose(V_2) @ \\\n",
    "            V @ S_diag\n",
    "    #print(scaling)\n",
    "  # Generate new lables using the largest eigenvector.\n",
    "    _, vecs = tf.linalg.eig(scaling)\n",
    "    #print(vecs) \n",
    "    new_labels = tf.math.real(\n",
    "      tf.einsum('ij,j->i', tf.cast(V @ S_diag, tf.complex64), vecs[-1])).numpy()\n",
    "    #print(\"labels: \", new_labels)\n",
    "    # Create new labels and add some small amount of noise.\n",
    "    #final_y = new_labels > np.median(new_labels)\n",
    "    #noisy_y = (final_y ^ (np.random.uniform(size=final_y.shape) > 0.95))\n",
    "    new_labels= new_labels.reshape(-1,1)\n",
    "    #noisy_y = new_labels\n",
    "    noisy_y = (new_labels + (np.random.randn(new_labels.shape[0],new_labels.shape[1]) *0.001))\n",
    "    return noisy_y"
   ]
  },
  {
   "cell_type": "code",
   "execution_count": 1329,
   "metadata": {},
   "outputs": [
    {
     "name": "stdout",
     "output_type": "stream",
     "text": [
      "[[0.87211824]\n",
      " [0.78275836]\n",
      " [0.7816399 ]\n",
      " [0.79264148]\n",
      " [0.70917288]\n",
      " [0.87526657]\n",
      " [0.58667259]\n",
      " [0.78606343]\n",
      " [0.65904814]\n",
      " [0.90781052]\n",
      " [0.9322312 ]\n",
      " [0.8433193 ]\n",
      " [0.7156281 ]\n",
      " [0.77223842]\n",
      " [0.81892785]\n",
      " [0.71618095]\n",
      " [0.90139798]\n",
      " [0.65832647]\n",
      " [0.93146424]\n",
      " [0.86965837]\n",
      " [0.91623033]\n",
      " [0.94632368]\n",
      " [0.90472125]\n",
      " [0.93522544]\n",
      " [0.92758355]\n",
      " [0.97721192]\n",
      " [0.8968815 ]\n",
      " [0.97577891]\n",
      " [0.95358646]\n",
      " [0.89751159]\n",
      " [0.86278625]\n",
      " [0.7217305 ]\n",
      " [0.93505381]\n",
      " [0.80447134]\n",
      " [0.95496223]\n",
      " [0.45369337]\n",
      " [0.93704434]\n",
      " [0.92860793]\n",
      " [0.89992021]\n",
      " [0.74286006]\n",
      " [0.60463982]\n",
      " [0.83451435]\n",
      " [0.81012432]\n",
      " [0.91070621]\n",
      " [0.77720341]\n",
      " [0.89257001]\n",
      " [0.9404156 ]\n",
      " [0.90503309]\n",
      " [0.8825368 ]\n",
      " [0.87444428]\n",
      " [0.83397448]\n",
      " [0.84763079]\n",
      " [0.80940607]\n",
      " [0.94378749]\n",
      " [0.89758319]\n",
      " [0.9513946 ]\n",
      " [0.82050639]\n",
      " [0.57783831]\n",
      " [0.9255022 ]\n",
      " [0.97583016]\n",
      " [0.40701432]\n",
      " [0.7470797 ]\n",
      " [0.68592605]\n",
      " [0.87358983]\n",
      " [0.76205296]\n",
      " [0.93375571]\n",
      " [0.76034535]\n",
      " [0.91055656]\n",
      " [0.93470305]\n",
      " [0.74911047]\n",
      " [0.94565888]\n",
      " [0.88956445]\n",
      " [0.88363776]\n",
      " [0.39904936]\n",
      " [0.78022106]\n",
      " [0.93055174]\n",
      " [0.85580847]\n",
      " [0.84714211]\n",
      " [0.6756388 ]\n",
      " [0.96436658]\n",
      " [0.90143629]\n",
      " [0.92716545]\n",
      " [0.90250097]\n",
      " [0.73020161]\n",
      " [0.92939633]\n",
      " [0.97457451]\n",
      " [0.72901212]\n",
      " [0.78505878]\n",
      " [0.61494506]\n",
      " [0.95759812]\n",
      " [0.89390777]\n",
      " [0.82817052]\n",
      " [0.83705757]\n",
      " [0.45022843]\n",
      " [0.98900318]\n",
      " [0.66329596]\n",
      " [0.90760121]\n",
      " [0.84960911]\n",
      " [0.81993578]\n",
      " [0.90834574]\n",
      " [0.83952385]\n",
      " [0.94725567]\n",
      " [0.86781687]\n",
      " [0.94398113]\n",
      " [0.92909462]\n",
      " [0.97668627]\n",
      " [0.63453054]\n",
      " [0.77423012]\n",
      " [0.71104588]\n",
      " [0.82666737]\n",
      " [0.78307435]\n",
      " [0.94230365]\n",
      " [0.89134598]\n",
      " [0.96199127]\n",
      " [0.70333455]\n",
      " [0.88267823]\n",
      " [0.49207586]\n",
      " [0.78273336]\n",
      " [0.86599981]\n",
      " [0.91602751]\n",
      " [0.82813573]\n",
      " [0.90687324]\n",
      " [0.89463315]\n",
      " [0.74856889]\n",
      " [0.94136555]\n",
      " [0.57490158]\n",
      " [0.87284626]\n",
      " [0.66274084]\n",
      " [0.76957283]\n",
      " [0.55559267]\n",
      " [0.83552485]\n",
      " [0.81883861]\n",
      " [0.6641892 ]\n",
      " [0.96631264]\n",
      " [0.73978685]\n",
      " [0.81747488]\n",
      " [0.94921227]\n",
      " [0.83018777]\n",
      " [0.69422358]\n",
      " [0.88750823]\n",
      " [0.67826128]\n",
      " [0.74024231]\n",
      " [0.90953073]\n",
      " [0.97786175]\n",
      " [0.82677837]\n",
      " [0.84329748]\n",
      " [0.91925043]\n",
      " [0.83371951]\n",
      " [0.85715585]\n",
      " [0.88241424]\n",
      " [0.69528071]\n",
      " [0.74032751]\n",
      " [0.53594484]\n",
      " [0.91664939]\n",
      " [0.95800469]\n",
      " [0.96533736]\n",
      " [0.88375128]\n",
      " [0.97138486]\n",
      " [0.9204582 ]\n",
      " [0.91550783]\n",
      " [0.97089098]\n",
      " [0.87603724]\n",
      " [0.93437158]\n",
      " [0.74433262]\n",
      " [0.98321972]\n",
      " [0.90964225]\n",
      " [0.84106518]\n",
      " [0.71170212]\n",
      " [0.89591184]\n",
      " [0.76139065]\n",
      " [0.8457443 ]\n",
      " [0.93387968]\n",
      " [0.96832481]\n",
      " [0.88967388]\n",
      " [0.98339154]\n",
      " [0.82757416]\n",
      " [0.79626325]\n",
      " [0.78751356]\n",
      " [0.94347214]\n",
      " [0.82032555]\n",
      " [0.88654724]\n",
      " [0.6951111 ]\n",
      " [0.86834067]\n",
      " [0.75389182]\n",
      " [0.56226095]\n",
      " [0.9213767 ]\n",
      " [0.81946847]\n",
      " [0.86650835]\n",
      " [0.84967487]\n",
      " [0.64318444]\n",
      " [0.73128823]\n",
      " [0.90837986]\n",
      " [0.88984872]\n",
      " [0.90130366]\n",
      " [0.8292455 ]\n",
      " [0.96820564]\n",
      " [0.86309989]\n",
      " [0.86958736]\n",
      " [0.68778466]\n",
      " [0.85161387]\n",
      " [0.94683243]\n",
      " [0.93768285]\n",
      " [0.8376407 ]\n",
      " [0.99547781]\n",
      " [0.95051669]\n",
      " [0.62090774]\n",
      " [0.69738263]\n",
      " [0.95142235]\n",
      " [0.87568211]\n",
      " [0.94883652]\n",
      " [0.87313316]\n",
      " [0.74323055]\n",
      " [0.84301988]\n",
      " [0.91635306]\n",
      " [0.74363768]\n",
      " [0.93687846]\n",
      " [0.8788691 ]\n",
      " [0.91108029]\n",
      " [0.95554041]\n",
      " [0.88942297]\n",
      " [0.92727922]\n",
      " [0.86994185]\n",
      " [0.80217737]\n",
      " [0.92261763]\n",
      " [0.6529873 ]\n",
      " [0.91174641]\n",
      " [0.94490784]\n",
      " [0.72506576]\n",
      " [0.8818903 ]\n",
      " [0.84802203]\n",
      " [0.83449543]\n",
      " [0.76504068]\n",
      " [0.93065571]\n",
      " [0.84327013]\n",
      " [0.85710675]\n",
      " [0.91608075]\n",
      " [0.8414295 ]\n",
      " [0.73936344]\n",
      " [0.82849501]\n",
      " [0.86708553]\n",
      " [0.80611724]\n",
      " [0.80735096]\n",
      " [0.8498239 ]\n",
      " [0.89935089]\n",
      " [0.84847686]\n",
      " [0.78101949]\n",
      " [0.93263323]\n",
      " [0.93904278]\n",
      " [0.90347022]\n",
      " [0.94226654]\n",
      " [0.7150808 ]\n",
      " [0.51615076]\n",
      " [0.60391164]\n",
      " [0.88943777]\n",
      " [0.76185246]\n",
      " [0.70917631]\n",
      " [0.73639554]\n",
      " [0.89434567]\n",
      " [0.87006756]\n",
      " [0.90461113]\n",
      " [0.90751639]\n",
      " [1.        ]\n",
      " [0.82950853]\n",
      " [0.86034797]\n",
      " [0.91916759]\n",
      " [0.85103416]\n",
      " [0.79829229]\n",
      " [0.87572784]\n",
      " [0.95693933]\n",
      " [0.56305654]\n",
      " [0.90447884]\n",
      " [0.88153644]\n",
      " [0.82452582]\n",
      " [0.91601891]\n",
      " [0.82653164]\n",
      " [0.92726235]\n",
      " [0.89350513]\n",
      " [0.9213386 ]\n",
      " [0.85902136]\n",
      " [0.89391669]\n",
      " [0.95847791]\n",
      " [0.58405605]\n",
      " [0.89097648]\n",
      " [0.92879667]\n",
      " [0.66730291]\n",
      " [0.71303101]\n",
      " [0.78659258]\n",
      " [0.84075895]\n",
      " [0.92392311]\n",
      " [0.94945493]\n",
      " [0.96434333]\n",
      " [0.92376636]\n",
      " [0.91511953]\n",
      " [0.74152595]\n",
      " [0.79614638]\n",
      " [0.98645166]\n",
      " [0.94317781]\n",
      " [0.92440299]\n",
      " [0.95784108]\n",
      " [0.97051384]\n",
      " [0.92881458]\n",
      " [0.83142822]\n",
      " [0.95346321]\n",
      " [0.87971307]\n",
      " [0.93996692]\n",
      " [0.80876797]\n",
      " [0.8192934 ]\n",
      " [0.35916518]\n",
      " [0.95383385]\n",
      " [0.85769946]\n",
      " [0.87763725]\n",
      " [0.86643308]\n",
      " [0.82440825]\n",
      " [0.92412399]\n",
      " [0.52490196]\n",
      " [0.90564935]\n",
      " [0.79971696]\n",
      " [0.97369099]\n",
      " [0.91726954]\n",
      " [0.94561594]\n",
      " [0.93746903]\n",
      " [0.82284169]\n",
      " [0.61668289]\n",
      " [0.90006193]\n",
      " [0.7913178 ]\n",
      " [0.8842059 ]\n",
      " [0.42697272]\n",
      " [0.95773936]\n",
      " [0.9507471 ]\n",
      " [0.7732659 ]\n",
      " [0.87702428]\n",
      " [0.90497531]\n",
      " [0.83799236]\n",
      " [0.90880184]\n",
      " [0.9346097 ]\n",
      " [0.80648605]\n",
      " [0.94560118]\n",
      " [0.70561012]\n",
      " [0.95908427]\n",
      " [0.87750473]\n",
      " [0.59939424]\n",
      " [0.78930198]\n",
      " [0.81711902]\n",
      " [0.95838367]\n",
      " [0.93269856]\n",
      " [0.61213116]\n",
      " [0.94839335]\n",
      " [0.97159248]\n",
      " [0.96291766]\n",
      " [0.80559309]\n",
      " [0.81391134]\n",
      " [0.95608578]\n",
      " [0.46677284]\n",
      " [0.88886293]\n",
      " [0.89755192]\n",
      " [0.94588601]\n",
      " [0.80211098]\n",
      " [0.90061843]\n",
      " [0.88041574]\n",
      " [0.94764617]\n",
      " [0.78872679]\n",
      " [0.8916045 ]\n",
      " [0.93289457]\n",
      " [0.77959949]\n",
      " [0.86187411]\n",
      " [0.84806007]\n",
      " [0.59357598]\n",
      " [0.80060061]\n",
      " [0.86563789]\n",
      " [0.5717872 ]\n",
      " [0.8640332 ]\n",
      " [0.8217472 ]\n",
      " [0.80915078]\n",
      " [0.94692816]\n",
      " [0.7999601 ]\n",
      " [0.7349498 ]\n",
      " [0.63038501]\n",
      " [0.87191588]\n",
      " [0.91814767]\n",
      " [0.91114078]\n",
      " [0.94969935]\n",
      " [0.79677287]\n",
      " [0.69588817]\n",
      " [0.89874821]\n",
      " [0.74681287]\n",
      " [0.93723828]\n",
      " [0.68979185]\n",
      " [0.90941463]\n",
      " [0.92704831]\n",
      " [0.48524062]\n",
      " [0.92393437]\n",
      " [0.50192365]\n",
      " [0.84324179]\n",
      " [0.9252537 ]\n",
      " [0.55167705]\n",
      " [0.89593275]\n",
      " [0.81708109]\n",
      " [0.90128356]\n",
      " [0.94683907]\n",
      " [0.84637504]\n",
      " [0.92339264]\n",
      " [0.83748032]\n",
      " [0.95488787]\n",
      " [0.95409571]\n",
      " [0.81296412]\n",
      " [0.7927906 ]\n",
      " [0.92217675]\n",
      " [0.73837468]\n",
      " [0.70358031]\n",
      " [0.88363797]\n",
      " [0.88028439]\n",
      " [0.52696487]\n",
      " [0.78354002]\n",
      " [0.86615886]\n",
      " [0.87468222]\n",
      " [0.60650032]\n",
      " [0.70076099]\n",
      " [0.91890423]\n",
      " [0.80040726]\n",
      " [0.84628576]\n",
      " [0.91736198]\n",
      " [0.55615113]\n",
      " [0.86857198]\n",
      " [0.86251778]\n",
      " [0.58316553]\n",
      " [0.47294299]\n",
      " [0.65715081]\n",
      " [0.69894569]\n",
      " [0.67358218]\n",
      " [0.42233514]\n",
      " [0.69450769]\n",
      " [0.80585307]\n",
      " [0.62458556]\n",
      " [0.53303284]\n",
      " [0.54327865]\n",
      " [0.62711993]\n",
      " [0.5477099 ]\n",
      " [0.70848693]\n",
      " [0.58171414]\n",
      " [0.68461949]\n",
      " [0.70342683]\n",
      " [0.63354746]\n",
      " [0.44396237]\n",
      " [0.76449038]\n",
      " [0.42717504]\n",
      " [0.04672528]\n",
      " [0.67529873]\n",
      " [0.17519306]\n",
      " [0.67835805]\n",
      " [0.49654971]\n",
      " [0.5716966 ]\n",
      " [0.57931069]\n",
      " [0.54202272]\n",
      " [0.47811062]\n",
      " [0.3360115 ]\n",
      " [0.65937839]\n",
      " [0.74069533]\n",
      " [0.27625159]\n",
      " [0.66677795]\n",
      " [0.73221125]\n",
      " [0.44560796]\n",
      " [0.78471121]\n",
      " [0.01083872]\n",
      " [0.67321992]\n",
      " [0.73806223]\n",
      " [0.63827839]\n",
      " [0.41492166]\n",
      " [0.73546283]\n",
      " [0.71179913]\n",
      " [0.55846832]\n",
      " [0.60494007]\n",
      " [0.68506243]\n",
      " [0.73213548]\n",
      " [0.41098017]\n",
      " [0.57123506]\n",
      " [0.58158207]\n",
      " [0.        ]\n",
      " [0.72235273]\n",
      " [0.42291544]\n",
      " [0.4076876 ]\n",
      " [0.73857878]\n",
      " [0.56785782]\n",
      " [0.6355688 ]\n",
      " [0.62607374]\n",
      " [0.66281945]\n",
      " [0.56794688]\n",
      " [0.48754573]\n",
      " [0.46157971]\n",
      " [0.66156942]\n",
      " [0.43946173]\n",
      " [0.52770091]\n",
      " [0.57744524]\n",
      " [0.17572194]\n",
      " [0.42533866]\n",
      " [0.60866669]\n",
      " [0.53999379]\n",
      " [0.75970532]\n",
      " [0.70085393]\n",
      " [0.65374367]\n",
      " [0.70686557]]\n"
     ]
    }
   ],
   "source": [
    "y_relabel = get_stilted_dataset(S_pqk, V_pqk, S_original, V_original)\n",
    "y_relabel = scaler.fit_transform(y_relabel.reshape(-1,1))\n",
    "y_train_new, y_test_new = y_relabel[:N_TRAIN], y_relabel[N_TRAIN:]\n",
    "print(y_relabel)"
   ]
  },
  {
   "cell_type": "code",
   "execution_count": 1330,
   "metadata": {},
   "outputs": [
    {
     "name": "stdout",
     "output_type": "stream",
     "text": [
      "Model: \"sequential_95\"\n",
      "_________________________________________________________________\n",
      " Layer (type)                Output Shape              Param #   \n",
      "=================================================================\n",
      " dense_285 (Dense)           (None, 16)                544       \n",
      "                                                                 \n",
      " dense_286 (Dense)           (None, 8)                 136       \n",
      "                                                                 \n",
      " dense_287 (Dense)           (None, 1)                 9         \n",
      "                                                                 \n",
      "=================================================================\n",
      "Total params: 689\n",
      "Trainable params: 689\n",
      "Non-trainable params: 0\n",
      "_________________________________________________________________\n"
     ]
    }
   ],
   "source": [
    "#docs_infra: no_execute\n",
    "\"\"\"\n",
    "def create_pqk_model():\n",
    "    model = tf.keras.Sequential()\n",
    "    model.add(tf.keras.layers.Dense(32, activation='sigmoid', input_shape=[len(qubits) * 3,]))\n",
    "    model.add(tf.keras.layers.Dense(16, activation='sigmoid'))\n",
    "    model.add(tf.keras.layers.Dense(1))\n",
    "    return model\n",
    "\n",
    "pqk_model = create_pqk_model()\n",
    "pqk_model.compile(loss=tf.keras.losses.BinaryCrossentropy(from_logits=True),\n",
    "              optimizer=tf.keras.optimizers.Adam(learning_rate=0.003),\n",
    "              metrics=['accuracy'])\n",
    "\n",
    "\"\"\"\n",
    "def create_pqk_model():\n",
    "    model = tf.keras.Sequential()\n",
    "    model.add(tf.keras.layers.Dense(16, activation='tanh', input_shape=[len(qubits) * 3,]))\n",
    "    model.add(tf.keras.layers.Dense(8, activation='tanh'))\n",
    "    model.add(tf.keras.layers.Dense(1, activation='linear'))\n",
    "    return model\n",
    "\n",
    "pqk_model = create_pqk_model()\n",
    "pqk_model.compile(loss=tf.keras.losses.MeanSquaredError(),\n",
    "              optimizer=tf.keras.optimizers.Adam(learning_rate=0.001),\n",
    "              metrics=[tf.keras.metrics.MeanSquaredError()])\n",
    "\n",
    "pqk_model.summary()"
   ]
  },
  {
   "cell_type": "code",
   "execution_count": 1331,
   "metadata": {},
   "outputs": [],
   "source": [
    "#docs_infra: no_execute\n",
    "pqk_history = pqk_model.fit(tf.reshape(x_train_pqk, [N_TRAIN, -1]),\n",
    "          y_train_new,\n",
    "          batch_size=32,\n",
    "          epochs=100,\n",
    "          verbose=0,\n",
    "          validation_data=(tf.reshape(x_test_pqk, [N_TEST, -1]), y_test_new))"
   ]
  },
  {
   "cell_type": "code",
   "execution_count": 1332,
   "metadata": {},
   "outputs": [
    {
     "name": "stdout",
     "output_type": "stream",
     "text": [
      "Model: \"sequential_96\"\n",
      "_________________________________________________________________\n",
      " Layer (type)                Output Shape              Param #   \n",
      "=================================================================\n",
      " dense_288 (Dense)           (None, 16)                176       \n",
      "                                                                 \n",
      " dense_289 (Dense)           (None, 8)                 136       \n",
      "                                                                 \n",
      " dense_290 (Dense)           (None, 1)                 9         \n",
      "                                                                 \n",
      "=================================================================\n",
      "Total params: 321\n",
      "Trainable params: 321\n",
      "Non-trainable params: 0\n",
      "_________________________________________________________________\n"
     ]
    }
   ],
   "source": [
    "#docs_infra: no_execute\n",
    "\"\"\"\n",
    "def create_fair_classical_model():\n",
    "    model = tf.keras.Sequential()\n",
    "    model.add(tf.keras.layers.Dense(32, activation='sigmoid', input_shape=[DATASET_DIM,]))\n",
    "    model.add(tf.keras.layers.Dense(16, activation='sigmoid'))\n",
    "    model.add(tf.keras.layers.Dense(1))\n",
    "    return model\n",
    "\n",
    "model = create_fair_classical_model()\n",
    "model.compile(loss=tf.keras.losses.BinaryCrossentropy(from_logits=True),\n",
    "              optimizer=tf.keras.optimizers.Adam(learning_rate=0.03),\n",
    "              metrics=['accuracy'])\n",
    "\"\"\"\n",
    "def create_fair_classical_model():\n",
    "    model = tf.keras.Sequential()\n",
    "    model.add(tf.keras.layers.Dense(16, activation='tanh', input_shape=[DATASET_DIM,]))\n",
    "    model.add(tf.keras.layers.Dense(8, activation='tanh'))\n",
    "    model.add(tf.keras.layers.Dense(1, activation='linear'))\n",
    "    return model\n",
    "\n",
    "model = create_fair_classical_model()\n",
    "model.compile(loss=tf.keras.losses.MeanSquaredError(),\n",
    "              optimizer=tf.keras.optimizers.Adam(learning_rate=0.001),\n",
    "              metrics=[tf.keras.metrics.MeanSquaredError()])\n",
    "\n",
    "model.summary()"
   ]
  },
  {
   "cell_type": "code",
   "execution_count": 1333,
   "metadata": {},
   "outputs": [],
   "source": [
    "#docs_infra: no_execute\n",
    "classical_history = model.fit(x_train,\n",
    "          y_train_new,\n",
    "          batch_size=32,\n",
    "          epochs=100,\n",
    "          verbose=0,\n",
    "          validation_data=(x_test, y_test_new))"
   ]
  },
  {
   "cell_type": "code",
   "execution_count": 1334,
   "metadata": {},
   "outputs": [
    {
     "data": {
      "text/plain": [
       "(dict_keys(['loss', 'mean_squared_error', 'val_loss', 'val_mean_squared_error']),)"
      ]
     },
     "execution_count": 1334,
     "metadata": {},
     "output_type": "execute_result"
    }
   ],
   "source": [
    "classical_history.history.keys(),"
   ]
  },
  {
   "cell_type": "code",
   "execution_count": 1335,
   "metadata": {},
   "outputs": [
    {
     "name": "stdout",
     "output_type": "stream",
     "text": [
      "['Solarize_Light2', '_classic_test_patch', '_mpl-gallery', '_mpl-gallery-nogrid', 'bmh', 'classic', 'dark_background', 'fast', 'fivethirtyeight', 'ggplot', 'grayscale', 'seaborn-v0_8', 'seaborn-v0_8-bright', 'seaborn-v0_8-colorblind', 'seaborn-v0_8-dark', 'seaborn-v0_8-dark-palette', 'seaborn-v0_8-darkgrid', 'seaborn-v0_8-deep', 'seaborn-v0_8-muted', 'seaborn-v0_8-notebook', 'seaborn-v0_8-paper', 'seaborn-v0_8-pastel', 'seaborn-v0_8-poster', 'seaborn-v0_8-talk', 'seaborn-v0_8-ticks', 'seaborn-v0_8-white', 'seaborn-v0_8-whitegrid', 'tableau-colorblind10']\n"
     ]
    }
   ],
   "source": [
    "print(plt.style.available)"
   ]
  },
  {
   "cell_type": "code",
   "execution_count": 1336,
   "metadata": {},
   "outputs": [
    {
     "data": {
      "text/plain": [
       "<matplotlib.legend.Legend at 0x7f7c3124ca30>"
      ]
     },
     "execution_count": 1336,
     "metadata": {},
     "output_type": "execute_result"
    },
    {
     "data": {
      "image/png": "[encoded data removed]",
      "text/plain": [
       "<Figure size 1000x500 with 1 Axes>"
      ]
     },
     "metadata": {},
     "output_type": "display_data"
    }
   ],
   "source": [
    "#docs_infra: no_execute\n",
    "\n",
    "plt.style.use('seaborn-v0_8-whitegrid')\n",
    "\n",
    "plt.figure(figsize=(10,5))\n",
    "plt.plot(classical_history.history['mean_squared_error'], label='Classical train mse', marker='o')\n",
    "plt.plot(classical_history.history['val_mean_squared_error'], label='Classical validation mse',marker='o')\n",
    "plt.plot(pqk_history.history['mean_squared_error'], label='Quantum train mse',marker='o')\n",
    "plt.plot(pqk_history.history['val_mean_squared_error'], label='Quantum validation mse',marker='o')\n",
    "plt.yscale(\"log\")\n",
    "plt.xlabel('Iteration')\n",
    "plt.ylabel('MSE')\n",
    "plt.title('MSE Validation: Stilted Random Regression Dataset')\n",
    "plt.legend(loc='best')"
   ]
  },
  {
   "cell_type": "code",
   "execution_count": 1307,
   "metadata": {},
   "outputs": [
    {
     "name": "stdout",
     "output_type": "stream",
     "text": [
      "(425, 11, 3)\n"
     ]
    },
    {
     "data": {
      "text/plain": [
       "(425, 33)"
      ]
     },
     "execution_count": 1307,
     "metadata": {},
     "output_type": "execute_result"
    }
   ],
   "source": [
    "print(x_train_pqk.shape)\n",
    "\n",
    "x_train_pqk_reshaped = np.array(x_train_pqk).reshape(-1,(np.array(x_train_pqk).shape[1]* np.array(x_train_pqk).shape[2]) )\n",
    "x_test_pqk_reshaped = np.array(x_test_pqk).reshape(-1,(np.array(x_test_pqk).shape[1]* np.array(x_test_pqk).shape[2]) )\n",
    "x_train_pqk_reshaped.shape"
   ]
  },
  {
   "cell_type": "code",
   "execution_count": 64,
   "metadata": {},
   "outputs": [
    {
     "name": "stdout",
     "output_type": "stream",
     "text": [
      "(155, 27)\n"
     ]
    }
   ],
   "source": [
    "print(x_test_pqk_reshaped.shape)"
   ]
  },
  {
   "cell_type": "code",
   "execution_count": 65,
   "metadata": {},
   "outputs": [],
   "source": [
    "import pickle as pkl\n",
    "\n",
    "d = [x_train_pqk, x_test_pqk, x_train, x_test, y_train_new, y_test_new]\n",
    "\n",
    "with open(\"stilted_data_housing.pkl\", \"wb\") as output_file:\n",
    "    pkl.dump(d, output_file)\n",
    "\n"
   ]
  },
  {
   "cell_type": "code",
   "execution_count": null,
   "metadata": {},
   "outputs": [],
   "source": [
    "from sklearn.linear_model import LinearRegression\n",
    "from sklearn.metrics import mean_squared_error\n",
    "\n",
    "from sklearn.gaussian_process import GaussianProcessRegressor\n",
    "from sklearn.gaussian_process.kernels import RBF\n",
    "\n",
    "#clf = LinearRegression()\n",
    "clf = GaussianProcessRegressor(kernel=RBF())\n",
    "\n",
    "clf.fit(x_train_pqk_reshaped, y_train_new)\n",
    "y_pred = clf.predict(x_test_pqk_reshaped)"
   ]
  },
  {
   "cell_type": "code",
   "execution_count": null,
   "metadata": {},
   "outputs": [],
   "source": [
    "print(mean_squared_error(y_test_new, y_pred))"
   ]
  },
  {
   "cell_type": "code",
   "execution_count": null,
   "metadata": {},
   "outputs": [],
   "source": [
    "clf.fit(x_train, y_train_new)\n",
    "y_pred = clf.predict(x_test)"
   ]
  },
  {
   "cell_type": "code",
   "execution_count": null,
   "metadata": {},
   "outputs": [],
   "source": [
    "print(mean_squared_error(y_test_new, y_pred))"
   ]
  },
  {
   "cell_type": "code",
   "execution_count": 1350,
   "metadata": {},
   "outputs": [
    {
     "ename": "ModuleNotFoundError",
     "evalue": "No module named 'qiskit'",
     "output_type": "error",
     "traceback": [
      "\u001b[0;31m---------------------------------------------------------------------------\u001b[0m",
      "\u001b[0;31mModuleNotFoundError\u001b[0m                       Traceback (most recent call last)",
      "Cell \u001b[0;32mIn[1350], line 3\u001b[0m\n\u001b[1;32m      1\u001b[0m \u001b[38;5;66;03m# Import necessary libraries from Qiskit\u001b[39;00m\n\u001b[0;32m----> 3\u001b[0m \u001b[38;5;28;01mimport\u001b[39;00m \u001b[38;5;21;01mqiskit\u001b[39;00m\n\u001b[1;32m      4\u001b[0m \u001b[38;5;28;01mfrom\u001b[39;00m \u001b[38;5;21;01mqiskit\u001b[39;00m \u001b[38;5;28;01mimport\u001b[39;00m Aer, execute\n\u001b[1;32m      5\u001b[0m \u001b[38;5;28;01mfrom\u001b[39;00m \u001b[38;5;21;01mqiskit\u001b[39;00m\u001b[38;5;21;01m.\u001b[39;00m\u001b[38;5;21;01moptimization\u001b[39;00m\u001b[38;5;21;01m.\u001b[39;00m\u001b[38;5;21;01mapplications\u001b[39;00m\u001b[38;5;21;01m.\u001b[39;00m\u001b[38;5;21;01mising\u001b[39;00m \u001b[38;5;28;01mimport\u001b[39;00m max_cut\n",
      "\u001b[0;31mModuleNotFoundError\u001b[0m: No module named 'qiskit'"
     ]
    }
   ],
   "source": []
  },
  {
   "cell_type": "code",
   "execution_count": null,
   "metadata": {},
   "outputs": [],
   "source": []
  }
 ],
 "metadata": {
  "kernelspec": {
   "display_name": "Python 3 (ipykernel)",
   "language": "python",
   "name": "python3"
  },
  "language_info": {
   "codemirror_mode": {
    "name": "ipython",
    "version": 3
   },
   "file_extension": ".py",
   "mimetype": "text/x-python",
   "name": "python",
   "nbconvert_exporter": "python",
   "pygments_lexer": "ipython3",
   "version": "3.8.18"
  }
 },
 "nbformat": 4,
 "nbformat_minor": 4
}
